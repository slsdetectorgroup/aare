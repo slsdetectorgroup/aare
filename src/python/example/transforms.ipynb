{
 "cells": [
  {
   "cell_type": "code",
   "execution_count": 1,
   "id": "fe4445f1-5b76-4e8c-b600-bd60dd6dfd7a",
   "metadata": {},
   "outputs": [],
   "source": [
    "from pathlib import Path\n",
    "import numpy as np\n",
    "import matplotlib.pyplot as plt\n",
    "import sys\n",
    "%matplotlib inline\n",
    "import mpld3\n",
    "mpld3.enable_notebook()\n",
    "PROJECT_ROOT_DIR=Path(\"../../../\").resolve()\n",
    "assert PROJECT_ROOT_DIR.exists()\n",
    "DATA_PATH = PROJECT_ROOT_DIR / 'data'\n",
    "assert DATA_PATH.exists()\n",
    "DATA_PATH_STRING = str(DATA_PATH)\n",
    "sys.path.append(str((PROJECT_ROOT_DIR / 'build').resolve()))\n",
    "# check if _aare can be imported\n",
    "import importlib.util\n",
    "_aare_module = importlib.util.find_spec(\"_aare\")\n",
    "assert _aare_module is not None\n"
   ]
  },
  {
   "cell_type": "code",
   "execution_count": 2,
   "id": "795a42e5-7891-4369-9d8a-3ada24faf722",
   "metadata": {},
   "outputs": [
    {
     "ename": "ImportError",
     "evalue": "To be able to register buffer protocol support for the type '_aare.Frame' the associated class<>(..) invocation must include the pybind11::buffer_protocol() annotation!",
     "output_type": "error",
     "traceback": [
      "\u001b[0;31m---------------------------------------------------------------------------\u001b[0m",
      "\u001b[0;31mImportError\u001b[0m                               Traceback (most recent call last)",
      "Cell \u001b[0;32mIn[2], line 1\u001b[0m\n\u001b[0;32m----> 1\u001b[0m \u001b[38;5;28;01mfrom\u001b[39;00m \u001b[38;5;21;01m_aare\u001b[39;00m \u001b[38;5;28;01mimport\u001b[39;00m \u001b[38;5;241m*\u001b[39m\n",
      "\u001b[0;31mImportError\u001b[0m: To be able to register buffer protocol support for the type '_aare.Frame' the associated class<>(..) invocation must include the pybind11::buffer_protocol() annotation!"
     ]
    }
   ],
   "source": [
    "from _aare import *"
   ]
  },
  {
   "cell_type": "code",
   "execution_count": null,
   "id": "4ad969a3-0089-49f7-8b10-8cbf4d42bf93",
   "metadata": {},
   "outputs": [],
   "source": [
    "transforms = Transforms()\n",
    "transforms.add([\n",
    "    Transforms.identity()\n",
    "])"
   ]
  }
 ],
 "metadata": {
  "kernelspec": {
   "display_name": "Python 3 (ipykernel)",
   "language": "python",
   "name": "python3"
  },
  "language_info": {
   "codemirror_mode": {
    "name": "ipython",
    "version": 3
   },
   "file_extension": ".py",
   "mimetype": "text/x-python",
   "name": "python",
   "nbconvert_exporter": "python",
   "pygments_lexer": "ipython3",
   "version": "3.12.3"
  }
 },
 "nbformat": 4,
 "nbformat_minor": 5
}
