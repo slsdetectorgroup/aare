{
 "cells": [
  {
   "cell_type": "code",
   "execution_count": 1,
   "id": "fe4445f1-5b76-4e8c-b600-bd60dd6dfd7a",
   "metadata": {},
   "outputs": [],
   "source": [
    "from pathlib import Path\n",
    "import numpy as np\n",
    "import matplotlib.pyplot as plt\n",
    "import sys\n",
    "%matplotlib inline\n",
    "PROJECT_ROOT_DIR=Path(\"../../../\").resolve()\n",
    "assert PROJECT_ROOT_DIR.exists()\n",
    "DATA_PATH = PROJECT_ROOT_DIR / 'data'\n",
    "assert DATA_PATH.exists()\n",
    "DATA_PATH_STRING = str(DATA_PATH)\n",
    "sys.path.append(str((PROJECT_ROOT_DIR / 'build').resolve()))\n",
    "# check if _aare can be imported\n",
    "import importlib.util\n",
    "_aare_module = importlib.util.find_spec(\"_aare\")\n",
    "assert _aare_module is not None\n"
   ]
  },
  {
   "cell_type": "code",
   "execution_count": 2,
   "id": "795a42e5-7891-4369-9d8a-3ada24faf722",
   "metadata": {},
   "outputs": [],
   "source": [
    "from _aare import *"
   ]
  },
  {
   "cell_type": "code",
   "execution_count": 3,
   "id": "4ad969a3-0089-49f7-8b10-8cbf4d42bf93",
   "metadata": {},
   "outputs": [],
   "source": [
    "transforms = Transforms()\n",
    "transforms.add([\n",
    "    Transforms.identity()\n",
    "])"
   ]
  },
  {
   "cell_type": "code",
   "execution_count": null,
   "id": "24c8534c-b7bc-4e51-97d3-8d4e4e57fcdf",
   "metadata": {},
   "outputs": [],
   "source": []
  },
  {
   "cell_type": "code",
   "execution_count": null,
   "id": "40c01a35-4a50-4fbd-a969-b89626a794c9",
   "metadata": {},
   "outputs": [],
   "source": []
  },
  {
   "cell_type": "code",
   "execution_count": 4,
   "id": "f8f2dca4-def0-460c-827f-1ca5c75197e4",
   "metadata": {},
   "outputs": [
    {
     "data": {
      "text/plain": [
       "array([[90, 91, 92, 93, 94, 95, 96, 97, 98, 99],\n",
       "       [80, 81, 82, 83, 84, 85, 86, 87, 88, 89],\n",
       "       [70, 71, 72, 73, 74, 75, 76, 77, 78, 79],\n",
       "       [60, 61, 62, 63, 64, 65, 66, 67, 68, 69],\n",
       "       [50, 51, 52, 53, 54, 55, 56, 57, 58, 59],\n",
       "       [40, 41, 42, 43, 44, 45, 46, 47, 48, 49],\n",
       "       [30, 31, 32, 33, 34, 35, 36, 37, 38, 39],\n",
       "       [20, 21, 22, 23, 24, 25, 26, 27, 28, 29],\n",
       "       [10, 11, 12, 13, 14, 15, 16, 17, 18, 19],\n",
       "       [ 0,  1,  2,  3,  4,  5,  6,  7,  8,  9]], dtype=uint64)"
      ]
     },
     "execution_count": 4,
     "metadata": {},
     "output_type": "execute_result"
    }
   ],
   "source": [
    "# order_map to flip frame horizontally\n",
    "order_map = np.zeros((10,10),dtype = np.uint64)\n",
    "for i in range(10):\n",
    "    for j in range(10):\n",
    "        order_map[i,j]=(9-i)*10+j\n",
    "\n",
    "order_map"
   ]
  },
  {
   "cell_type": "code",
   "execution_count": 5,
   "id": "c7f2d787-2415-4349-849d-7f9f9989ce7b",
   "metadata": {},
   "outputs": [],
   "source": [
    "reorder_fn = transforms.reorder(order_map)"
   ]
  },
  {
   "cell_type": "code",
   "execution_count": 6,
   "id": "8ebc69fb-ae00-44e4-af4c-f306c05002db",
   "metadata": {},
   "outputs": [
    {
     "data": {
      "text/plain": [
       "array([[8, 2, 5, 9, 4, 2, 3, 6, 8, 9],\n",
       "       [1, 8, 4, 0, 9, 9, 3, 8, 3, 3],\n",
       "       [1, 0, 5, 4, 7, 7, 8, 0, 9, 5],\n",
       "       [2, 5, 8, 4, 9, 3, 3, 4, 5, 2],\n",
       "       [7, 4, 5, 8, 9, 5, 6, 9, 9, 4],\n",
       "       [4, 0, 4, 0, 7, 8, 4, 2, 8, 2],\n",
       "       [9, 1, 7, 8, 8, 0, 4, 3, 2, 4],\n",
       "       [2, 3, 4, 6, 4, 3, 2, 3, 1, 6],\n",
       "       [9, 1, 2, 6, 9, 9, 7, 8, 8, 1],\n",
       "       [1, 7, 9, 0, 2, 5, 4, 4, 7, 9]], dtype=int64)"
      ]
     },
     "execution_count": 6,
     "metadata": {},
     "output_type": "execute_result"
    }
   ],
   "source": [
    "frame = Frame(10,10,Dtype(DtypeIndex.INT64))\n",
    "arr = np.array(frame,copy=False)\n",
    "arr+=np.random.randint(0,10,(10,10))\n",
    "arr"
   ]
  },
  {
   "cell_type": "code",
   "execution_count": 7,
   "id": "ee19939d-77df-4a83-9e32-3e9d642d383d",
   "metadata": {},
   "outputs": [
    {
     "data": {
      "text/plain": [
       "array([[1, 7, 9, 0, 2, 5, 4, 4, 7, 9],\n",
       "       [9, 1, 2, 6, 9, 9, 7, 8, 8, 1],\n",
       "       [2, 3, 4, 6, 4, 3, 2, 3, 1, 6],\n",
       "       [9, 1, 7, 8, 8, 0, 4, 3, 2, 4],\n",
       "       [4, 0, 4, 0, 7, 8, 4, 2, 8, 2],\n",
       "       [7, 4, 5, 8, 9, 5, 6, 9, 9, 4],\n",
       "       [2, 5, 8, 4, 9, 3, 3, 4, 5, 2],\n",
       "       [1, 0, 5, 4, 7, 7, 8, 0, 9, 5],\n",
       "       [1, 8, 4, 0, 9, 9, 3, 8, 3, 3],\n",
       "       [8, 2, 5, 9, 4, 2, 3, 6, 8, 9]], dtype=int64)"
      ]
     },
     "execution_count": 7,
     "metadata": {},
     "output_type": "execute_result"
    }
   ],
   "source": [
    "frame_reordered = reorder_fn(frame)\n",
    "np.array(frame_reordered)"
   ]
  },
  {
   "cell_type": "code",
   "execution_count": 8,
   "id": "c1e82e11-b13f-4691-bfa8-fb681f172a9a",
   "metadata": {},
   "outputs": [],
   "source": [
    "def increment(frame):\n",
    "    arr = np.array(frame,copy=False)\n",
    "    arr+=1\n",
    "    print(arr.dtype)\n",
    "    return to_frame(arr)\n",
    "t=Transforms()\n",
    "t.add([\n",
    "    increment,\n",
    "    reorder_fn\n",
    "])\n"
   ]
  },
  {
   "cell_type": "code",
   "execution_count": 9,
   "id": "1158211d-89b3-49a0-a3a8-8395dd3ea343",
   "metadata": {},
   "outputs": [
    {
     "data": {
      "text/plain": [
       "array([[1, 7, 9, 0, 2, 5, 4, 4, 7, 9],\n",
       "       [9, 1, 2, 6, 9, 9, 7, 8, 8, 1],\n",
       "       [2, 3, 4, 6, 4, 3, 2, 3, 1, 6],\n",
       "       [9, 1, 7, 8, 8, 0, 4, 3, 2, 4],\n",
       "       [4, 0, 4, 0, 7, 8, 4, 2, 8, 2],\n",
       "       [7, 4, 5, 8, 9, 5, 6, 9, 9, 4],\n",
       "       [2, 5, 8, 4, 9, 3, 3, 4, 5, 2],\n",
       "       [1, 0, 5, 4, 7, 7, 8, 0, 9, 5],\n",
       "       [1, 8, 4, 0, 9, 9, 3, 8, 3, 3],\n",
       "       [8, 2, 5, 9, 4, 2, 3, 6, 8, 9]], dtype=int64)"
      ]
     },
     "execution_count": 9,
     "metadata": {},
     "output_type": "execute_result"
    }
   ],
   "source": [
    "np.array(frame)"
   ]
  },
  {
   "cell_type": "code",
   "execution_count": 10,
   "id": "a4a42c5e-d298-495b-aed1-4c813dac641e",
   "metadata": {
    "scrolled": true
   },
   "outputs": [
    {
     "name": "stdout",
     "output_type": "stream",
     "text": [
      "int64\n"
     ]
    }
   ],
   "source": [
    "frame_transformed = t(frame)"
   ]
  },
  {
   "cell_type": "code",
   "execution_count": 11,
   "id": "8b153eea-85da-49ab-bc08-6876094700d4",
   "metadata": {},
   "outputs": [
    {
     "data": {
      "text/plain": [
       "array([[ 9,  3,  6, 10,  5,  3,  4,  7,  9, 10],\n",
       "       [ 2,  9,  5,  1, 10, 10,  4,  9,  4,  4],\n",
       "       [ 2,  1,  6,  5,  8,  8,  9,  1, 10,  6],\n",
       "       [ 3,  6,  9,  5, 10,  4,  4,  5,  6,  3],\n",
       "       [ 8,  5,  6,  9, 10,  6,  7, 10, 10,  5],\n",
       "       [ 5,  1,  5,  1,  8,  9,  5,  3,  9,  3],\n",
       "       [10,  2,  8,  9,  9,  1,  5,  4,  3,  5],\n",
       "       [ 3,  4,  5,  7,  5,  4,  3,  4,  2,  7],\n",
       "       [10,  2,  3,  7, 10, 10,  8,  9,  9,  2],\n",
       "       [ 2,  8, 10,  1,  3,  6,  5,  5,  8, 10]], dtype=int64)"
      ]
     },
     "execution_count": 11,
     "metadata": {},
     "output_type": "execute_result"
    }
   ],
   "source": [
    "np.array(frame_transformed)"
   ]
  },
  {
   "cell_type": "code",
   "execution_count": 12,
   "id": "74340de3-a29f-49ea-967b-f447f19b6cc9",
   "metadata": {},
   "outputs": [
    {
     "data": {
      "text/plain": [
       "True"
      ]
     },
     "execution_count": 12,
     "metadata": {},
     "output_type": "execute_result"
    }
   ],
   "source": [
    "# testing Dtype\n",
    "cond = True\n",
    "cond = cond and np.array(Frame(10,10,Dtype(DtypeIndex.INT8))).dtype == np.int8\n",
    "cond = cond and np.array(Frame(10,10,Dtype(DtypeIndex.INT16))).dtype == np.int16\n",
    "cond = cond and np.array(Frame(10,10,Dtype(DtypeIndex.INT32))).dtype == np.int32\n",
    "cond = cond and np.array(Frame(10,10,Dtype(DtypeIndex.INT64))).dtype == np.int64\n",
    "cond = cond and np.array(Frame(10,10,Dtype(DtypeIndex.UINT8))).dtype == np.uint8\n",
    "cond = cond and np.array(Frame(10,10,Dtype(DtypeIndex.UINT16))).dtype == np.uint16\n",
    "cond = cond and np.array(Frame(10,10,Dtype(DtypeIndex.UINT32))).dtype == np.uint32\n",
    "cond = cond and np.array(Frame(10,10,Dtype(DtypeIndex.UINT64))).dtype == np.uint64\n",
    "cond = cond and np.array(Frame(10,10,Dtype(DtypeIndex.FLOAT))).dtype == np.float32\n",
    "cond = cond and np.array(Frame(10,10,Dtype(DtypeIndex.DOUBLE))).dtype == np.float64\n",
    "cond"
   ]
  },
  {
   "cell_type": "code",
   "execution_count": null,
   "id": "4ddaf051-e6f0-423f-aec7-a942f35c73c5",
   "metadata": {},
   "outputs": [],
   "source": [
    "Transfo"
   ]
  }
 ],
 "metadata": {
  "kernelspec": {
   "display_name": "Python 3 (ipykernel)",
   "language": "python",
   "name": "python3"
  },
  "language_info": {
   "codemirror_mode": {
    "name": "ipython",
    "version": 3
   },
   "file_extension": ".py",
   "mimetype": "text/x-python",
   "name": "python",
   "nbconvert_exporter": "python",
   "pygments_lexer": "ipython3",
   "version": "3.12.3"
  }
 },
 "nbformat": 4,
 "nbformat_minor": 5
}
