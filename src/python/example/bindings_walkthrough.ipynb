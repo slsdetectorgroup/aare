{
 "cells": [
  {
   "cell_type": "code",
   "execution_count": 1,
   "id": "ce9b0c7b-09ae-4334-b131-c7097c308ad5",
   "metadata": {},
   "outputs": [],
   "source": [
    "#!pip install numpy maptlotlib mpld3"
   ]
  },
  {
   "cell_type": "code",
   "execution_count": 2,
   "id": "bad2f0df-bcfa-4f61-94cd-c4d790ffadf7",
   "metadata": {},
   "outputs": [],
   "source": [
    "from pathlib import Path\n",
    "import numpy as np\n",
    "import matplotlib.pyplot as plt\n",
    "import sys\n",
    "%matplotlib inline\n",
    "import mpld3\n",
    "mpld3.enable_notebook()"
   ]
  },
  {
   "cell_type": "code",
   "execution_count": 3,
   "id": "2af45495-267d-423f-b80d-ed57afc43249",
   "metadata": {},
   "outputs": [],
   "source": [
    "PROJECT_ROOT_DIR=Path(\"../../../\").resolve()\n",
    "assert PROJECT_ROOT_DIR.exists()\n",
    "DATA_PATH = PROJECT_ROOT_DIR / 'data'\n",
    "assert DATA_PATH.exists()\n",
    "DATA_PATH_STRING = str(DATA_PATH)"
   ]
  },
  {
   "cell_type": "code",
   "execution_count": 4,
   "id": "b3937211-1c01-4055-ae07-638c32d7d5dd",
   "metadata": {},
   "outputs": [],
   "source": [
    "# you need to compile the project with -DAARE_PYTHON_BINDINGS=\"ON\"\n",
    "sys.path.append(str((PROJECT_ROOT_DIR / 'build').resolve()))\n",
    "# check if _aare can be imported\n",
    "import importlib.util\n",
    "_aare_module = importlib.util.find_spec(\"_aare\")\n",
    "assert _aare_module is not None\n"
   ]
  },
  {
   "cell_type": "markdown",
   "id": "bdc318d8-d519-4c31-a196-4cb89bbfeb95",
   "metadata": {},
   "source": [
    "# File"
   ]
  },
  {
   "cell_type": "code",
   "execution_count": null,
   "id": "c77ec29c-1042-421c-a965-96e7c597fbe3",
   "metadata": {},
   "outputs": [],
   "source": []
  },
  {
   "cell_type": "code",
   "execution_count": 5,
   "id": "c8e08f34-5b88-4f13-8973-749c67a75854",
   "metadata": {
    "scrolled": true
   },
   "outputs": [
    {
     "ename": "ImportError",
     "evalue": "To be able to register buffer protocol support for the type '_aare.Frame' the associated class<>(..) invocation must include the pybind11::buffer_protocol() annotation!",
     "output_type": "error",
     "traceback": [
      "\u001b[0;31m---------------------------------------------------------------------------\u001b[0m",
      "\u001b[0;31mImportError\u001b[0m                               Traceback (most recent call last)",
      "Cell \u001b[0;32mIn[5], line 1\u001b[0m\n\u001b[0;32m----> 1\u001b[0m \u001b[38;5;28;01mfrom\u001b[39;00m \u001b[38;5;21;01m_aare\u001b[39;00m \u001b[38;5;28;01mimport\u001b[39;00m File\n",
      "\u001b[0;31mImportError\u001b[0m: To be able to register buffer protocol support for the type '_aare.Frame' the associated class<>(..) invocation must include the pybind11::buffer_protocol() annotation!"
     ]
    }
   ],
   "source": [
    "from _aare import File"
   ]
  },
  {
   "cell_type": "code",
   "execution_count": null,
   "id": "c6c5750a-56d5-4120-b687-ef61f1a73078",
   "metadata": {},
   "outputs": [],
   "source": []
  },
  {
   "cell_type": "code",
   "execution_count": null,
   "id": "dc525593-0c63-4e51-bf41-edda59fd4244",
   "metadata": {},
   "outputs": [],
   "source": [
    "# eiger json master file\n",
    "file = File(DATA_PATH_STRING + \"/eiger/eiger_500k_32bit_master_0.json\")\n",
    "print(file.rows,file.cols,file.bitdepth)\n",
    "print(file.detector_type)\n",
    "print(file.total_frames)\n",
    "print(\"geometry\",file.geometry)"
   ]
  },
  {
   "cell_type": "code",
   "execution_count": null,
   "id": "a42f4d35-afee-4029-b3eb-a43fd024f5e2",
   "metadata": {},
   "outputs": [],
   "source": [
    "from _aare import DetectorType\n",
    "list(DetectorType.__entries) # DetectorType is an enum"
   ]
  },
  {
   "cell_type": "code",
   "execution_count": null,
   "id": "df6ae154-69a3-486a-96e2-c87e7532ef23",
   "metadata": {},
   "outputs": [],
   "source": [
    "# Frame class"
   ]
  },
  {
   "cell_type": "code",
   "execution_count": null,
   "id": "614e9252-d595-46f2-891a-1473d6785586",
   "metadata": {},
   "outputs": [],
   "source": [
    "frame = file.read() # read frame from current position\n",
    "frame"
   ]
  },
  {
   "cell_type": "code",
   "execution_count": null,
   "id": "06ce776e-6e96-4aa5-ac3f-b390e4fdfea0",
   "metadata": {},
   "outputs": [],
   "source": [
    "frame.rows,frame.cols,frame.bitdepth,frame.size"
   ]
  },
  {
   "cell_type": "code",
   "execution_count": null,
   "id": "4d377def-8628-4d02-9ca4-0bb2f522fb76",
   "metadata": {},
   "outputs": [],
   "source": [
    "frame.array() # returns a numpy array of type unsigned int "
   ]
  },
  {
   "cell_type": "code",
   "execution_count": null,
   "id": "213beb5c-3153-4b48-8036-70701db14abe",
   "metadata": {},
   "outputs": [],
   "source": [
    "file.iread(1) # read frame at index 1 (only complete frames are returned)\n",
    "pos = file.tell() # get the index file is currently pointed to\n",
    "print(\"pos\",pos)\n",
    "file.seek(0) # go to index 0\n",
    "file.read(3) # read three frames. returns list of frames\n",
    "# file.write(file.iread(0))"
   ]
  },
  {
   "cell_type": "code",
   "execution_count": null,
   "id": "b99f72d6-3c16-4182-9034-79805770ecee",
   "metadata": {},
   "outputs": [],
   "source": [
    "# plot frame\n",
    "plt.imshow(frame.array())\n",
    "plt.show()"
   ]
  },
  {
   "cell_type": "markdown",
   "id": "fded0b6d-02e8-4eb5-aacc-51f70663a664",
   "metadata": {},
   "source": [
    "# ClusterFile"
   ]
  },
  {
   "cell_type": "code",
   "execution_count": null,
   "id": "86674099-fd17-4ebb-af11-e86b7665a254",
   "metadata": {},
   "outputs": [],
   "source": [
    "from _aare import ClusterFileV2"
   ]
  },
  {
   "cell_type": "code",
   "execution_count": null,
   "id": "416394ee-1251-4373-acc4-49ca1fa2637a",
   "metadata": {},
   "outputs": [],
   "source": [
    "file = ClusterFileV2(DATA_PATH_STRING + \"/clusters/beam_En700eV_-40deg_300V_10us_d0_f0_100.clust\",\"r\")\n",
    "file"
   ]
  },
  {
   "cell_type": "code",
   "execution_count": null,
   "id": "baef30ee-e2de-4052-9b5b-438af78f51e3",
   "metadata": {
    "scrolled": true
   },
   "outputs": [],
   "source": [
    "file.read() # returns a list of the clusters of the current frame number"
   ]
  },
  {
   "cell_type": "code",
   "execution_count": null,
   "id": "b979f805-0058-428b-b580-28e228fe0b4e",
   "metadata": {
    "scrolled": true
   },
   "outputs": [],
   "source": [
    "file.read(2) # returns a list of clusters for two frames"
   ]
  },
  {
   "cell_type": "code",
   "execution_count": null,
   "id": "ee58e574-2a44-455e-93a1-2344aefe74f9",
   "metadata": {},
   "outputs": [],
   "source": [
    "file.frame_number() # get the frame number where clusterFile currently points to"
   ]
  },
  {
   "cell_type": "code",
   "execution_count": null,
   "id": "7889a1f3-4292-4369-aebb-a19262bd6daf",
   "metadata": {},
   "outputs": [],
   "source": [
    "clusters = file.read()\n",
    "len(clusters)"
   ]
  },
  {
   "cell_type": "code",
   "execution_count": null,
   "id": "3077f5c7-7c4d-43db-b460-bfc77c6733d3",
   "metadata": {},
   "outputs": [],
   "source": [
    "cluster = clusters[0]\n",
    "print(cluster.frame_number, cluster.cluster.x,cluster.cluster.y) # get cluster information\n",
    "np.array(cluster.cluster.data,np.int32) # view cluster data "
   ]
  },
  {
   "cell_type": "markdown",
   "id": "b24afe47-0e93-49ed-871d-c32a06d3f975",
   "metadata": {},
   "source": [
    "# Pedestal"
   ]
  },
  {
   "cell_type": "code",
   "execution_count": null,
   "id": "1653184c-4d27-4de1-b400-2ca8eb80bf9f",
   "metadata": {},
   "outputs": [],
   "source": [
    "from _aare import Pedestal\n",
    "file = File(\"/mnt/sls_det_storage/moench_data/testNewFW20230714/cu_half_speed_master_4.json\")\n",
    "file.rows,file.cols,file.detector_type"
   ]
  },
  {
   "cell_type": "code",
   "execution_count": null,
   "id": "e78505b4-cd25-440a-9996-ea7e2104f5ee",
   "metadata": {},
   "outputs": [],
   "source": [
    "pedestal = Pedestal(file.rows,file.cols)\n",
    "pedestal.rows,pedestal.cols,pedestal.n_samples"
   ]
  },
  {
   "cell_type": "code",
   "execution_count": null,
   "id": "8e172b20-ed12-4c8c-8090-881b7cc9b1a0",
   "metadata": {},
   "outputs": [],
   "source": [
    "ndarray = pedestal.mean() # pedestal mean returns an internal NDArray object of type float8 and dimensions 2\n",
    "ndarray"
   ]
  },
  {
   "cell_type": "code",
   "execution_count": null,
   "id": "2c9313bb-efca-4cd1-8c1e-fdd1dd3e5f76",
   "metadata": {},
   "outputs": [],
   "source": [
    "np.array(ndarray) # to convert NDArray to numpy array with copying the data\n",
    "np.array(ndarray,copy=False) # to convert NDArray to numpy array without copying the data\n"
   ]
  },
  {
   "cell_type": "code",
   "execution_count": null,
   "id": "190d1fa0-9e16-4706-9523-287bd6456767",
   "metadata": {},
   "outputs": [],
   "source": [
    "ndarray.shape,ndarray.size,ndarray.bitdepth,ndarray.strides,ndarray.byte_strides"
   ]
  },
  {
   "cell_type": "code",
   "execution_count": null,
   "id": "f6352bc7-147b-4421-8049-273bb3070d88",
   "metadata": {},
   "outputs": [],
   "source": [
    "ndarray[0,300]"
   ]
  },
  {
   "cell_type": "code",
   "execution_count": null,
   "id": "6c951ba2-8a95-4046-81f9-c38b64bc0f08",
   "metadata": {},
   "outputs": [],
   "source": [
    "for i in range(2000):\n",
    "    frame = file.iread(i)\n",
    "    pedestal.push(frame) # push 2000 frames into the pedestal\n",
    "    "
   ]
  },
  {
   "cell_type": "code",
   "execution_count": null,
   "id": "15af0d52-cf8d-4b5b-8f59-cec78f73fbad",
   "metadata": {},
   "outputs": [],
   "source": [
    "mean = np.array(pedestal.mean())\n",
    "plt.imshow(mean)\n",
    "plt.show()\n"
   ]
  },
  {
   "cell_type": "code",
   "execution_count": null,
   "id": "64c686db-ad1b-42a8-a926-7d3653b1b6a5",
   "metadata": {},
   "outputs": [],
   "source": [
    "frame=file.iread(3000) # read frame at index 3000\n",
    "plt.imshow(frame.array())\n",
    "plt.title(\"Frame\")\n",
    "plt.show()"
   ]
  },
  {
   "cell_type": "code",
   "execution_count": null,
   "id": "3e5261a5-b311-4d3a-ac7c-81535d0b91a3",
   "metadata": {},
   "outputs": [],
   "source": [
    "frame=file.iread(3000) # read frame at index 3000\n",
    "denoised_frame = frame.array()-pedestal.mean()\n",
    "plt.imshow(denoised_frame)\n",
    "plt.title(\"denoised frame\")\n",
    "plt.show()"
   ]
  },
  {
   "cell_type": "code",
   "execution_count": null,
   "id": "ba40185a-2996-4b33-b797-fd9a27ba0269",
   "metadata": {},
   "outputs": [],
   "source": [
    "#other utilities in pedestal\n",
    "pedestal.variance() # get NDArray of the variance for each pixel \n",
    "pedestal.standard_deviation() # get NDArray of the standard deviation for each pixel \n",
    "pedestal.sum # get NDArray of the sum squared for each pixel \n",
    "pedestal.sum2 # get NDArray of the sum squared for each pixel \n",
    "pedestal.clear() # resets the pedestal\n",
    "# mean, variance, standard_deviation and clear can accept indexes to apply only specific pixels\n",
    "row,col=0,0\n",
    "pedestal.mean(row,col)\n",
    "pedestal.variance(row,col)\n",
    "pedestal.standard_deviation(row,col)\n",
    "pedestal.clear(row,col)"
   ]
  },
  {
   "cell_type": "markdown",
   "id": "74eeb261-374b-41f8-a707-ca95441321ef",
   "metadata": {},
   "source": [
    "# ClusterFinder"
   ]
  },
  {
   "cell_type": "code",
   "execution_count": null,
   "id": "33fed84c-dc7b-4a3e-9078-5530c8234234",
   "metadata": {},
   "outputs": [],
   "source": [
    "from _aare import ClusterFinder"
   ]
  },
  {
   "cell_type": "code",
   "execution_count": null,
   "id": "5b87588f-1749-49db-b2d1-209a99d95518",
   "metadata": {
    "scrolled": true
   },
   "outputs": [],
   "source": [
    "cf = ClusterFinder(3,3,1.0,1) # cluster_sizeX, cluster_sizeY, nSigma, threshold (can be ignored depending on the function called later)"
   ]
  },
  {
   "cell_type": "code",
   "execution_count": null,
   "id": "c74573f2-f693-499d-82a4-493f0df91b8f",
   "metadata": {},
   "outputs": [],
   "source": [
    "clusters = cf.find_clusters_without_threshold(denoised_frame,pedestal)\n",
    "len(clusters)"
   ]
  },
  {
   "cell_type": "code",
   "execution_count": null,
   "id": "b5338147-202a-4872-bf7f-54d279485d84",
   "metadata": {},
   "outputs": [],
   "source": [
    "# x_arr,y_arr=[],[]\n",
    "# for cluster in clusters:\n",
    "#     denoised_frame[cluster.x,cluster.y]=-1000\n",
    "# plt.imshow(denoised_frame)\n",
    "# plt.show()"
   ]
  },
  {
   "cell_type": "code",
   "execution_count": null,
   "id": "d93fbc4c-afbf-4ab8-9e35-94a6c57e8b6b",
   "metadata": {},
   "outputs": [],
   "source": []
  },
  {
   "cell_type": "code",
   "execution_count": null,
   "id": "e2d19bc5-e024-4b36-b025-d8f37f6b6ba1",
   "metadata": {},
   "outputs": [],
   "source": []
  },
  {
   "cell_type": "code",
   "execution_count": null,
   "id": "9b0f7ab7-4d00-40d1-8d6d-9e261658a718",
   "metadata": {},
   "outputs": [],
   "source": []
  },
  {
   "cell_type": "code",
   "execution_count": null,
   "id": "1683c4aa-eea8-43ec-b623-8a7c37262ec0",
   "metadata": {},
   "outputs": [],
   "source": []
  },
  {
   "cell_type": "code",
   "execution_count": null,
   "id": "6b7aa2b9-3b16-48b2-a3fb-f6968ead8c4a",
   "metadata": {},
   "outputs": [],
   "source": []
  },
  {
   "cell_type": "code",
   "execution_count": null,
   "id": "a56219c2-2deb-4469-8762-c86c00e9a2c7",
   "metadata": {},
   "outputs": [],
   "source": []
  },
  {
   "cell_type": "code",
   "execution_count": null,
   "id": "ec117dcd-cab5-48fd-ae67-095ff818dc1a",
   "metadata": {},
   "outputs": [],
   "source": []
  },
  {
   "cell_type": "code",
   "execution_count": null,
   "id": "1b8ed8fb-f30f-47fe-a52a-5ffea364543d",
   "metadata": {},
   "outputs": [],
   "source": []
  },
  {
   "cell_type": "code",
   "execution_count": null,
   "id": "3f6e595d-9c86-4a15-ba58-c007a6593ac8",
   "metadata": {},
   "outputs": [],
   "source": []
  },
  {
   "cell_type": "code",
   "execution_count": null,
   "id": "d62db3b3-997e-46ba-ae25-05a4bdfa16b2",
   "metadata": {},
   "outputs": [],
   "source": []
  },
  {
   "cell_type": "code",
   "execution_count": null,
   "id": "a5d7a57e-49b5-4027-830c-d3b9487da440",
   "metadata": {},
   "outputs": [],
   "source": []
  },
  {
   "cell_type": "code",
   "execution_count": null,
   "id": "1acab559-9168-418d-a476-78ff90a1360f",
   "metadata": {},
   "outputs": [],
   "source": []
  },
  {
   "cell_type": "code",
   "execution_count": null,
   "id": "20df5451-508e-4925-afd5-a0309c30ed3d",
   "metadata": {},
   "outputs": [],
   "source": []
  },
  {
   "cell_type": "code",
   "execution_count": null,
   "id": "a3bb1bc6-909a-467d-ae7f-4009882fd0af",
   "metadata": {},
   "outputs": [],
   "source": []
  },
  {
   "cell_type": "code",
   "execution_count": null,
   "id": "bb3ced8f-c6d0-495d-a446-5300b7a5293e",
   "metadata": {},
   "outputs": [],
   "source": []
  },
  {
   "cell_type": "code",
   "execution_count": null,
   "id": "2de814a2-0c5e-4ffe-a3ef-f5ce6436f63d",
   "metadata": {},
   "outputs": [],
   "source": []
  }
 ],
 "metadata": {
  "kernelspec": {
   "display_name": "Python 3 (ipykernel)",
   "language": "python",
   "name": "python3"
  },
  "language_info": {
   "codemirror_mode": {
    "name": "ipython",
    "version": 3
   },
   "file_extension": ".py",
   "mimetype": "text/x-python",
   "name": "python",
   "nbconvert_exporter": "python",
   "pygments_lexer": "ipython3",
   "version": "3.12.3"
  }
 },
 "nbformat": 4,
 "nbformat_minor": 5
}
